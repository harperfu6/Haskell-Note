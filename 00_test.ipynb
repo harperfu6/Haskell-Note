{
 "cells": [
  {
   "cell_type": "code",
   "execution_count": 1,
   "metadata": {
    "ExecuteTime": {
     "end_time": "2020-06-29T11:31:30.269471Z",
     "start_time": "2020-06-29T11:31:29.688Z"
    }
   },
   "outputs": [
    {
     "data": {
      "text/plain": [
       "X 20\n",
       "Y \"Test\"\n",
       "Z 0.5"
      ]
     },
     "metadata": {},
     "output_type": "display_data"
    }
   ],
   "source": [
    "data Value = X Int\n",
    "            | Y String\n",
    "            | Z Float\n",
    "            deriving Show\n",
    "\n",
    "let values = [X 20,\n",
    "              Y \"Test\",\n",
    "              Z 0.5\n",
    "             ]\n",
    "\n",
    "mapM_ print values"
   ]
  },
  {
   "cell_type": "code",
   "execution_count": 2,
   "metadata": {
    "ExecuteTime": {
     "end_time": "2020-10-22T23:27:38.529237Z",
     "start_time": "2020-10-22T23:27:38.163Z"
    }
   },
   "outputs": [
    {
     "data": {
      "text/plain": [
       "Just 13"
      ]
     },
     "metadata": {},
     "output_type": "display_data"
    }
   ],
   "source": [
    "import Control.Applicative\n",
    "\n",
    "print $ (+) <$> Just 3 <*> Just 10"
   ]
  },
  {
   "cell_type": "code",
   "execution_count": 3,
   "metadata": {
    "ExecuteTime": {
     "end_time": "2020-10-22T23:27:39.110827Z",
     "start_time": "2020-10-22T23:27:38.804Z"
    }
   },
   "outputs": [
    {
     "data": {
      "text/plain": [
       "1\n",
       "4\n",
       "9\n",
       "16\n",
       "[-1,-2,-3,-4]"
      ]
     },
     "metadata": {},
     "output_type": "display_data"
    }
   ],
   "source": [
    "import Control.Monad\n",
    "\n",
    "forM [1, 2, 3, 4] $ \\x -> do\n",
    "    print (x * x)\n",
    "    return (-x)"
   ]
  },
  {
   "cell_type": "code",
   "execution_count": null,
   "metadata": {},
   "outputs": [],
   "source": []
  },
  {
   "cell_type": "code",
   "execution_count": null,
   "metadata": {},
   "outputs": [],
   "source": []
  },
  {
   "cell_type": "code",
   "execution_count": null,
   "metadata": {},
   "outputs": [],
   "source": []
  },
  {
   "cell_type": "code",
   "execution_count": null,
   "metadata": {},
   "outputs": [],
   "source": []
  },
  {
   "cell_type": "code",
   "execution_count": null,
   "metadata": {},
   "outputs": [],
   "source": []
  }
 ],
 "metadata": {
  "kernelspec": {
   "display_name": "Haskell",
   "language": "haskell",
   "name": "haskell"
  },
  "language_info": {
   "codemirror_mode": "ihaskell",
   "file_extension": ".hs",
   "name": "haskell",
   "pygments_lexer": "Haskell",
   "version": "8.6.5"
  },
  "toc": {
   "base_numbering": 1,
   "nav_menu": {},
   "number_sections": true,
   "sideBar": true,
   "skip_h1_title": false,
   "title_cell": "Table of Contents",
   "title_sidebar": "Contents",
   "toc_cell": false,
   "toc_position": {
    "height": "calc(100% - 180px)",
    "left": "10px",
    "top": "150px",
    "width": "408.6px"
   },
   "toc_section_display": true,
   "toc_window_display": true
  }
 },
 "nbformat": 4,
 "nbformat_minor": 2
}
