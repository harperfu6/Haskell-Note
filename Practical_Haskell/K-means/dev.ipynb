{
 "cells": [
  {
   "cell_type": "markdown",
   "id": "instructional-logging",
   "metadata": {},
   "source": [
    "# Vector"
   ]
  },
  {
   "cell_type": "code",
   "execution_count": 20,
   "id": "center-relevance",
   "metadata": {
    "ExecuteTime": {
     "end_time": "2021-01-28T02:11:12.024204Z",
     "start_time": "2021-01-28T02:11:11.867Z"
    }
   },
   "outputs": [],
   "source": [
    "class Ord v => Vector v where\n",
    "    distance :: v -> v -> Double\n",
    "    centroid :: [v] -> v"
   ]
  },
  {
   "cell_type": "code",
   "execution_count": 2,
   "id": "intermediate-tuition",
   "metadata": {
    "ExecuteTime": {
     "end_time": "2021-01-28T01:50:03.998695Z",
     "start_time": "2021-01-28T01:50:03.744Z"
    }
   },
   "outputs": [],
   "source": [
    "-- for declaration of type variables\n",
    "{-# LANGUAGE FlexibleInstances #-}"
   ]
  },
  {
   "cell_type": "code",
   "execution_count": 42,
   "id": "connected-lawsuit",
   "metadata": {
    "ExecuteTime": {
     "end_time": "2021-01-28T02:36:51.865234Z",
     "start_time": "2021-01-28T02:36:51.721Z"
    }
   },
   "outputs": [],
   "source": [
    "instance Vector (Double, Double) where\n",
    "    distance (a,b) (c,d) = sqrt $ (c-a)*(c-a) + (d-b)*(d-b)\n",
    "    centroid lst =\n",
    "        let (u,v) = foldr (\\(a,b) (c,d) -> (a+c, b+d)) (0,0) lst\n",
    "            n = fromIntegral $ length lst\n",
    "        in (u / n, v / n)"
   ]
  },
  {
   "cell_type": "code",
   "execution_count": 43,
   "id": "violent-survival",
   "metadata": {
    "ExecuteTime": {
     "end_time": "2021-01-28T02:36:53.766390Z",
     "start_time": "2021-01-28T02:36:53.624Z"
    }
   },
   "outputs": [],
   "source": [
    "{-# LANGUAGE MultiParamTypeClasses #-}"
   ]
  },
  {
   "cell_type": "code",
   "execution_count": 5,
   "id": "cleared-prevention",
   "metadata": {
    "ExecuteTime": {
     "end_time": "2021-01-28T01:50:04.452097Z",
     "start_time": "2021-01-28T01:50:04.288Z"
    }
   },
   "outputs": [],
   "source": [
    "class Vector v => Vectorizable e v where\n",
    "    toVector :: e -> v\n",
    "\n",
    "instance Vectorizable (Double, Double) (Double, Double) where\n",
    "    toVector = id"
   ]
  },
  {
   "cell_type": "code",
   "execution_count": null,
   "id": "contained-blogger",
   "metadata": {},
   "outputs": [],
   "source": []
  },
  {
   "cell_type": "markdown",
   "id": "adolescent-career",
   "metadata": {},
   "source": [
    "# KMeans"
   ]
  },
  {
   "cell_type": "code",
   "execution_count": 6,
   "id": "interstate-hearts",
   "metadata": {
    "ExecuteTime": {
     "end_time": "2021-01-28T01:50:05.600143Z",
     "start_time": "2021-01-28T01:50:05.552Z"
    }
   },
   "outputs": [
    {
     "ename": "",
     "evalue": "",
     "output_type": "error",
     "traceback": [
      "<interactive>:1:1: error: The type signature for ‘kMeans’ lacks an accompanying binding"
     ]
    }
   ],
   "source": [
    "kMeans :: (Vector v, Vectorizable e v)\n",
    "        => (Int -> [e] -> [v]) -- number of centroids and initialization\n",
    "        -> [e] -- the information\n",
    "        -> [v] -- centroids after convergence"
   ]
  },
  {
   "cell_type": "markdown",
   "id": "unnecessary-thinking",
   "metadata": {},
   "source": [
    "※型宣言のみなのでエラーが出ている"
   ]
  },
  {
   "cell_type": "code",
   "execution_count": null,
   "id": "distributed-grill",
   "metadata": {},
   "outputs": [],
   "source": []
  },
  {
   "cell_type": "code",
   "execution_count": 7,
   "id": "cubic-burst",
   "metadata": {
    "ExecuteTime": {
     "end_time": "2021-01-28T01:50:27.954732Z",
     "start_time": "2021-01-28T01:50:27.724Z"
    }
   },
   "outputs": [],
   "source": [
    "import Data.List\n",
    "import qualified Data.Map as M"
   ]
  },
  {
   "cell_type": "code",
   "execution_count": 9,
   "id": "distant-dealer",
   "metadata": {
    "ExecuteTime": {
     "end_time": "2021-01-28T01:57:43.316739Z",
     "start_time": "2021-01-28T01:57:43.160Z"
    }
   },
   "outputs": [
    {
     "data": {
      "text/html": [
       "<style>/* Styles used for the Hoogle display in the pager */\n",
       ".hoogle-doc {\n",
       "display: block;\n",
       "padding-bottom: 1.3em;\n",
       "padding-left: 0.4em;\n",
       "}\n",
       ".hoogle-code {\n",
       "display: block;\n",
       "font-family: monospace;\n",
       "white-space: pre;\n",
       "}\n",
       ".hoogle-text {\n",
       "display: block;\n",
       "}\n",
       ".hoogle-name {\n",
       "color: green;\n",
       "font-weight: bold;\n",
       "}\n",
       ".hoogle-head {\n",
       "font-weight: bold;\n",
       "}\n",
       ".hoogle-sub {\n",
       "display: block;\n",
       "margin-left: 0.4em;\n",
       "}\n",
       ".hoogle-package {\n",
       "font-weight: bold;\n",
       "font-style: italic;\n",
       "}\n",
       ".hoogle-module {\n",
       "font-weight: bold;\n",
       "}\n",
       ".hoogle-class {\n",
       "font-weight: bold;\n",
       "}\n",
       ".get-type {\n",
       "color: green;\n",
       "font-weight: bold;\n",
       "font-family: monospace;\n",
       "display: block;\n",
       "white-space: pre-wrap;\n",
       "}\n",
       ".show-type {\n",
       "color: green;\n",
       "font-weight: bold;\n",
       "font-family: monospace;\n",
       "margin-left: 1em;\n",
       "}\n",
       ".mono {\n",
       "font-family: monospace;\n",
       "display: block;\n",
       "}\n",
       ".err-msg {\n",
       "color: red;\n",
       "font-style: italic;\n",
       "font-family: monospace;\n",
       "white-space: pre;\n",
       "display: block;\n",
       "}\n",
       "#unshowable {\n",
       "color: red;\n",
       "font-weight: bold;\n",
       "}\n",
       ".err-msg.in.collapse {\n",
       "padding-top: 0.7em;\n",
       "}\n",
       ".highlight-code {\n",
       "white-space: pre;\n",
       "font-family: monospace;\n",
       "}\n",
       ".suggestion-warning { \n",
       "font-weight: bold;\n",
       "color: rgb(200, 130, 0);\n",
       "}\n",
       ".suggestion-error { \n",
       "font-weight: bold;\n",
       "color: red;\n",
       "}\n",
       ".suggestion-name {\n",
       "font-weight: bold;\n",
       "}\n",
       "</style><span class='get-type'>minimumBy :: forall (t :: * -> *) a. Foldable t => (a -> a -> Ordering) -> t a -> a</span>"
      ],
      "text/plain": [
       "minimumBy :: forall (t :: * -> *) a. Foldable t => (a -> a -> Ordering) -> t a -> a"
      ]
     },
     "metadata": {},
     "output_type": "display_data"
    }
   ],
   "source": [
    ":t minimumBy"
   ]
  },
  {
   "cell_type": "code",
   "execution_count": 11,
   "id": "vertical-threshold",
   "metadata": {
    "ExecuteTime": {
     "end_time": "2021-01-28T02:00:58.480114Z",
     "start_time": "2021-01-28T02:00:58.324Z"
    }
   },
   "outputs": [
    {
     "data": {
      "text/html": [
       "<style>/* Styles used for the Hoogle display in the pager */\n",
       ".hoogle-doc {\n",
       "display: block;\n",
       "padding-bottom: 1.3em;\n",
       "padding-left: 0.4em;\n",
       "}\n",
       ".hoogle-code {\n",
       "display: block;\n",
       "font-family: monospace;\n",
       "white-space: pre;\n",
       "}\n",
       ".hoogle-text {\n",
       "display: block;\n",
       "}\n",
       ".hoogle-name {\n",
       "color: green;\n",
       "font-weight: bold;\n",
       "}\n",
       ".hoogle-head {\n",
       "font-weight: bold;\n",
       "}\n",
       ".hoogle-sub {\n",
       "display: block;\n",
       "margin-left: 0.4em;\n",
       "}\n",
       ".hoogle-package {\n",
       "font-weight: bold;\n",
       "font-style: italic;\n",
       "}\n",
       ".hoogle-module {\n",
       "font-weight: bold;\n",
       "}\n",
       ".hoogle-class {\n",
       "font-weight: bold;\n",
       "}\n",
       ".get-type {\n",
       "color: green;\n",
       "font-weight: bold;\n",
       "font-family: monospace;\n",
       "display: block;\n",
       "white-space: pre-wrap;\n",
       "}\n",
       ".show-type {\n",
       "color: green;\n",
       "font-weight: bold;\n",
       "font-family: monospace;\n",
       "margin-left: 1em;\n",
       "}\n",
       ".mono {\n",
       "font-family: monospace;\n",
       "display: block;\n",
       "}\n",
       ".err-msg {\n",
       "color: red;\n",
       "font-style: italic;\n",
       "font-family: monospace;\n",
       "white-space: pre;\n",
       "display: block;\n",
       "}\n",
       "#unshowable {\n",
       "color: red;\n",
       "font-weight: bold;\n",
       "}\n",
       ".err-msg.in.collapse {\n",
       "padding-top: 0.7em;\n",
       "}\n",
       ".highlight-code {\n",
       "white-space: pre;\n",
       "font-family: monospace;\n",
       "}\n",
       ".suggestion-warning { \n",
       "font-weight: bold;\n",
       "color: rgb(200, 130, 0);\n",
       "}\n",
       ".suggestion-error { \n",
       "font-weight: bold;\n",
       "color: red;\n",
       "}\n",
       ".suggestion-name {\n",
       "font-weight: bold;\n",
       "}\n",
       "</style><span class='get-type'>compare :: forall a. Ord a => a -> a -> Ordering</span>"
      ],
      "text/plain": [
       "compare :: forall a. Ord a => a -> a -> Ordering"
      ]
     },
     "metadata": {},
     "output_type": "display_data"
    }
   ],
   "source": [
    ":t compare"
   ]
  },
  {
   "cell_type": "code",
   "execution_count": 12,
   "id": "adult-colors",
   "metadata": {
    "ExecuteTime": {
     "end_time": "2021-01-28T02:01:09.246784Z",
     "start_time": "2021-01-28T02:01:08.969Z"
    }
   },
   "outputs": [
    {
     "data": {
      "text/plain": [
       "LT"
      ]
     },
     "metadata": {},
     "output_type": "display_data"
    }
   ],
   "source": [
    "compare 1 2"
   ]
  },
  {
   "cell_type": "code",
   "execution_count": 13,
   "id": "proprietary-commons",
   "metadata": {
    "ExecuteTime": {
     "end_time": "2021-01-28T02:02:12.229084Z",
     "start_time": "2021-01-28T02:02:11.981Z"
    }
   },
   "outputs": [
    {
     "data": {
      "text/html": [
       "<style>/* Styles used for the Hoogle display in the pager */\n",
       ".hoogle-doc {\n",
       "display: block;\n",
       "padding-bottom: 1.3em;\n",
       "padding-left: 0.4em;\n",
       "}\n",
       ".hoogle-code {\n",
       "display: block;\n",
       "font-family: monospace;\n",
       "white-space: pre;\n",
       "}\n",
       ".hoogle-text {\n",
       "display: block;\n",
       "}\n",
       ".hoogle-name {\n",
       "color: green;\n",
       "font-weight: bold;\n",
       "}\n",
       ".hoogle-head {\n",
       "font-weight: bold;\n",
       "}\n",
       ".hoogle-sub {\n",
       "display: block;\n",
       "margin-left: 0.4em;\n",
       "}\n",
       ".hoogle-package {\n",
       "font-weight: bold;\n",
       "font-style: italic;\n",
       "}\n",
       ".hoogle-module {\n",
       "font-weight: bold;\n",
       "}\n",
       ".hoogle-class {\n",
       "font-weight: bold;\n",
       "}\n",
       ".get-type {\n",
       "color: green;\n",
       "font-weight: bold;\n",
       "font-family: monospace;\n",
       "display: block;\n",
       "white-space: pre-wrap;\n",
       "}\n",
       ".show-type {\n",
       "color: green;\n",
       "font-weight: bold;\n",
       "font-family: monospace;\n",
       "margin-left: 1em;\n",
       "}\n",
       ".mono {\n",
       "font-family: monospace;\n",
       "display: block;\n",
       "}\n",
       ".err-msg {\n",
       "color: red;\n",
       "font-style: italic;\n",
       "font-family: monospace;\n",
       "white-space: pre;\n",
       "display: block;\n",
       "}\n",
       "#unshowable {\n",
       "color: red;\n",
       "font-weight: bold;\n",
       "}\n",
       ".err-msg.in.collapse {\n",
       "padding-top: 0.7em;\n",
       "}\n",
       ".highlight-code {\n",
       "white-space: pre;\n",
       "font-family: monospace;\n",
       "}\n",
       ".suggestion-warning { \n",
       "font-weight: bold;\n",
       "color: rgb(200, 130, 0);\n",
       "}\n",
       ".suggestion-error { \n",
       "font-weight: bold;\n",
       "color: red;\n",
       "}\n",
       ".suggestion-name {\n",
       "font-weight: bold;\n",
       "}\n",
       "</style><div class=\"suggestion-name\" style=\"clear:both;\">Use minimum</div><div class=\"suggestion-row\" style=\"float: left;\"><div class=\"suggestion-warning\">Found:</div><div class=\"highlight-code\" id=\"haskell\">minimumBy compare</div></div><div class=\"suggestion-row\" style=\"float: left;\"><div class=\"suggestion-warning\">Why Not:</div><div class=\"highlight-code\" id=\"haskell\">minimum</div></div>"
      ],
      "text/plain": [
       "Line 1: Use minimum\n",
       "Found:\n",
       "minimumBy compare\n",
       "Why not:\n",
       "minimum"
      ]
     },
     "metadata": {},
     "output_type": "display_data"
    },
    {
     "data": {
      "text/plain": [
       "1"
      ]
     },
     "metadata": {},
     "output_type": "display_data"
    }
   ],
   "source": [
    "minimumBy compare [1,2,3]"
   ]
  },
  {
   "cell_type": "code",
   "execution_count": 17,
   "id": "amber-officer",
   "metadata": {
    "ExecuteTime": {
     "end_time": "2021-01-28T02:08:34.522241Z",
     "start_time": "2021-01-28T02:08:34.370Z"
    }
   },
   "outputs": [
    {
     "data": {
      "text/html": [
       "<style>/* Styles used for the Hoogle display in the pager */\n",
       ".hoogle-doc {\n",
       "display: block;\n",
       "padding-bottom: 1.3em;\n",
       "padding-left: 0.4em;\n",
       "}\n",
       ".hoogle-code {\n",
       "display: block;\n",
       "font-family: monospace;\n",
       "white-space: pre;\n",
       "}\n",
       ".hoogle-text {\n",
       "display: block;\n",
       "}\n",
       ".hoogle-name {\n",
       "color: green;\n",
       "font-weight: bold;\n",
       "}\n",
       ".hoogle-head {\n",
       "font-weight: bold;\n",
       "}\n",
       ".hoogle-sub {\n",
       "display: block;\n",
       "margin-left: 0.4em;\n",
       "}\n",
       ".hoogle-package {\n",
       "font-weight: bold;\n",
       "font-style: italic;\n",
       "}\n",
       ".hoogle-module {\n",
       "font-weight: bold;\n",
       "}\n",
       ".hoogle-class {\n",
       "font-weight: bold;\n",
       "}\n",
       ".get-type {\n",
       "color: green;\n",
       "font-weight: bold;\n",
       "font-family: monospace;\n",
       "display: block;\n",
       "white-space: pre-wrap;\n",
       "}\n",
       ".show-type {\n",
       "color: green;\n",
       "font-weight: bold;\n",
       "font-family: monospace;\n",
       "margin-left: 1em;\n",
       "}\n",
       ".mono {\n",
       "font-family: monospace;\n",
       "display: block;\n",
       "}\n",
       ".err-msg {\n",
       "color: red;\n",
       "font-style: italic;\n",
       "font-family: monospace;\n",
       "white-space: pre;\n",
       "display: block;\n",
       "}\n",
       "#unshowable {\n",
       "color: red;\n",
       "font-weight: bold;\n",
       "}\n",
       ".err-msg.in.collapse {\n",
       "padding-top: 0.7em;\n",
       "}\n",
       ".highlight-code {\n",
       "white-space: pre;\n",
       "font-family: monospace;\n",
       "}\n",
       ".suggestion-warning { \n",
       "font-weight: bold;\n",
       "color: rgb(200, 130, 0);\n",
       "}\n",
       ".suggestion-error { \n",
       "font-weight: bold;\n",
       "color: red;\n",
       "}\n",
       ".suggestion-name {\n",
       "font-weight: bold;\n",
       "}\n",
       "</style><span class='get-type'>M.adjust :: forall k a. Ord k => (a -> a) -> k -> Map k a -> Map k a</span>"
      ],
      "text/plain": [
       "M.adjust :: forall k a. Ord k => (a -> a) -> k -> Map k a -> Map k a"
      ]
     },
     "metadata": {},
     "output_type": "display_data"
    }
   ],
   "source": [
    ":t M.adjust"
   ]
  },
  {
   "cell_type": "code",
   "execution_count": 19,
   "id": "lasting-dodge",
   "metadata": {
    "ExecuteTime": {
     "end_time": "2021-01-28T02:09:50.595275Z",
     "start_time": "2021-01-28T02:09:50.443Z"
    }
   },
   "outputs": [],
   "source": [
    "clusterAssignmentPhase :: (Ord v, Vector v, Vectorizable e v)\n",
    "                        => [v] -> [e] -> M.Map v [e]\n",
    "clusterAssignmentPhase centroids points =\n",
    "    let initialMap = M.fromList $ zip centroids (repeat [])\n",
    "        in foldr (\\p m -> let chosenC = minimumBy (compareDistance p) centroids\n",
    "                            in M.adjust (p:) chosenC m) initialMap points\n",
    "    where compareDistance p x y = compare (distance x $ toVector p) (distance y $ toVector p)"
   ]
  },
  {
   "cell_type": "code",
   "execution_count": 46,
   "id": "greatest-administration",
   "metadata": {
    "ExecuteTime": {
     "end_time": "2021-01-28T02:39:41.298831Z",
     "start_time": "2021-01-28T02:39:41.147Z"
    }
   },
   "outputs": [],
   "source": [
    "newCentroidPhase :: (Vector v, Vectorizable e v) => M.Map v [e] -> [(v,v)]\n",
    "newCentroidPhase = M.toList . fmap (centroid . map toVector)"
   ]
  },
  {
   "cell_type": "code",
   "execution_count": 47,
   "id": "ordered-excerpt",
   "metadata": {
    "ExecuteTime": {
     "end_time": "2021-01-28T02:46:49.993669Z",
     "start_time": "2021-01-28T02:46:49.856Z"
    }
   },
   "outputs": [],
   "source": [
    "shouldStop :: (Vector v) => [(v,v)] -> Double -> Bool\n",
    "shouldStop centroids threshold =\n",
    "    foldr (\\(x,y) s -> s + distance x y) 0.0 centroids < threshold"
   ]
  },
  {
   "cell_type": "code",
   "execution_count": 72,
   "id": "daily-wagon",
   "metadata": {
    "ExecuteTime": {
     "end_time": "2021-01-28T03:20:13.515633Z",
     "start_time": "2021-01-28T03:20:13.354Z"
    }
   },
   "outputs": [],
   "source": [
    "kMeans' :: (Vector v, Vectorizable e v)\n",
    "        => [v] -> [e] -> Double -> [v]\n",
    "kMeans' centroids points threshold =\n",
    "    let assignments = clusterAssignmentPhase centroids points\n",
    "        oldNewCentroids = newCentroidPhase assignments\n",
    "        newCentroids = map snd oldNewCentroids\n",
    "    in if shouldStop oldNewCentroids threshold\n",
    "       then newCentroids\n",
    "       else kMeans' newCentroids points threshold\n",
    "      \n",
    "kMeans :: (Vector v, Vectorizable e v)\n",
    "        => (Int -> [e] -> [v])  -- initialization function\n",
    "        -> Int -- number of centroids\n",
    "        -> [e] -- the information\n",
    "        -> Double -- threshold\n",
    "        -> [v] -- final centroid\n",
    "kMeans i k points = kMeans' (i k points) points"
   ]
  },
  {
   "cell_type": "code",
   "execution_count": 74,
   "id": "cardiac-battery",
   "metadata": {
    "ExecuteTime": {
     "end_time": "2021-01-28T03:22:20.856876Z",
     "start_time": "2021-01-28T03:22:20.715Z"
    }
   },
   "outputs": [],
   "source": [
    "initializeSimple :: Int -> [e] -> [(Double, Double)]\n",
    "initializeSimple 0 _ = []\n",
    "initializeSimple n v = (fromIntegral n, fromIntegral n) : initializeSimple (n-1) v"
   ]
  },
  {
   "cell_type": "code",
   "execution_count": null,
   "id": "mature-ranch",
   "metadata": {},
   "outputs": [],
   "source": []
  },
  {
   "cell_type": "code",
   "execution_count": 75,
   "id": "seven-equivalent",
   "metadata": {
    "ExecuteTime": {
     "end_time": "2021-01-28T03:23:18.051687Z",
     "start_time": "2021-01-28T03:23:17.765Z"
    }
   },
   "outputs": [],
   "source": [
    "let info = [(1,1), (1,2), (4,4), (4,5)]::[(Double,Double)]"
   ]
  },
  {
   "cell_type": "code",
   "execution_count": 76,
   "id": "extended-allergy",
   "metadata": {
    "ExecuteTime": {
     "end_time": "2021-01-28T03:23:33.319604Z",
     "start_time": "2021-01-28T03:23:33.017Z"
    }
   },
   "outputs": [
    {
     "data": {
      "text/plain": [
       "[(1.0,1.5),(4.0,4.5)]"
      ]
     },
     "metadata": {},
     "output_type": "display_data"
    }
   ],
   "source": [
    "kMeans initializeSimple 2 info 0.001"
   ]
  },
  {
   "cell_type": "code",
   "execution_count": null,
   "id": "recovered-quest",
   "metadata": {},
   "outputs": [],
   "source": []
  },
  {
   "cell_type": "code",
   "execution_count": null,
   "id": "upset-howard",
   "metadata": {},
   "outputs": [],
   "source": []
  },
  {
   "cell_type": "code",
   "execution_count": null,
   "id": "experienced-underground",
   "metadata": {
    "scrolled": true
   },
   "outputs": [],
   "source": []
  }
 ],
 "metadata": {
  "kernelspec": {
   "display_name": "Haskell",
   "language": "haskell",
   "name": "haskell"
  },
  "language_info": {
   "codemirror_mode": "ihaskell",
   "file_extension": ".hs",
   "name": "haskell",
   "pygments_lexer": "Haskell",
   "version": "8.6.5"
  },
  "toc": {
   "base_numbering": 1,
   "nav_menu": {},
   "number_sections": true,
   "sideBar": true,
   "skip_h1_title": false,
   "title_cell": "Table of Contents",
   "title_sidebar": "Contents",
   "toc_cell": false,
   "toc_position": {
    "height": "calc(100% - 180px)",
    "left": "10px",
    "top": "150px",
    "width": "303.8px"
   },
   "toc_section_display": true,
   "toc_window_display": true
  }
 },
 "nbformat": 4,
 "nbformat_minor": 5
}
